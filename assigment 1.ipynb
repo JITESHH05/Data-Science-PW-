{
 "cells": [
  {
   "cell_type": "code",
   "execution_count": 5,
   "id": "6aab1b31-02dc-4a1d-a7f3-5f5b7f731243",
   "metadata": {},
   "outputs": [],
   "source": [
    "s = 'jitesh'"
   ]
  },
  {
   "cell_type": "code",
   "execution_count": 28,
   "id": "d0f2a2fb-234c-4f83-a327-e90c2de3cbdb",
   "metadata": {},
   "outputs": [
    {
     "data": {
      "text/plain": [
       "str"
      ]
     },
     "execution_count": 28,
     "metadata": {},
     "output_type": "execute_result"
    }
   ],
   "source": [
    "type(s)"
   ]
  },
  {
   "cell_type": "code",
   "execution_count": 30,
   "id": "65f8624e-bf04-40b0-bde9-a00903d71176",
   "metadata": {},
   "outputs": [],
   "source": [
    "my_list= [2,3,4,5,6,'jitesh',2,3.45]"
   ]
  },
  {
   "cell_type": "code",
   "execution_count": 32,
   "id": "78e6f6a1-a826-4cac-80fb-22e2b8a7a6a4",
   "metadata": {},
   "outputs": [
    {
     "data": {
      "text/plain": [
       "[2, 3, 4, 5, 6, 'jitesh', 2, 3.45]"
      ]
     },
     "execution_count": 32,
     "metadata": {},
     "output_type": "execute_result"
    }
   ],
   "source": [
    "my_list"
   ]
  },
  {
   "cell_type": "code",
   "execution_count": 34,
   "id": "6ff02bf4-9ef0-48b3-bbec-ca0cc17d8e0c",
   "metadata": {},
   "outputs": [
    {
     "data": {
      "text/plain": [
       "3.45"
      ]
     },
     "execution_count": 34,
     "metadata": {},
     "output_type": "execute_result"
    }
   ],
   "source": [
    "my_list[7]"
   ]
  },
  {
   "cell_type": "code",
   "execution_count": 35,
   "id": "c6ccb037-f352-489f-b944-2f9052c17262",
   "metadata": {},
   "outputs": [
    {
     "data": {
      "text/plain": [
       "float"
      ]
     },
     "execution_count": 35,
     "metadata": {},
     "output_type": "execute_result"
    }
   ],
   "source": [
    "type(3.45)"
   ]
  },
  {
   "cell_type": "code",
   "execution_count": 38,
   "id": "ff083fcb-4be7-4c5d-a0d5-2d724c932622",
   "metadata": {},
   "outputs": [],
   "source": [
    "my_tuple = (10,20,30,40,50)"
   ]
  },
  {
   "cell_type": "code",
   "execution_count": 39,
   "id": "6944bfdc-f0bb-43be-a4fa-fd1eed6a3132",
   "metadata": {},
   "outputs": [
    {
     "data": {
      "text/plain": [
       "(10, 20, 30, 40, 50)"
      ]
     },
     "execution_count": 39,
     "metadata": {},
     "output_type": "execute_result"
    }
   ],
   "source": [
    "my_tuple "
   ]
  },
  {
   "cell_type": "code",
   "execution_count": 40,
   "id": "9965e38a-272a-460e-8cd0-d554a44cfad4",
   "metadata": {},
   "outputs": [],
   "source": [
    "var1 = 'jitesh'"
   ]
  },
  {
   "cell_type": "code",
   "execution_count": 41,
   "id": "b7b0aa98-7cf7-4c30-9b25-1aa3d1cbc415",
   "metadata": {},
   "outputs": [
    {
     "data": {
      "text/plain": [
       "str"
      ]
     },
     "execution_count": 41,
     "metadata": {},
     "output_type": "execute_result"
    }
   ],
   "source": [
    "type(var1)"
   ]
  },
  {
   "cell_type": "code",
   "execution_count": 59,
   "id": "da7c4cc7-9eae-486c-92d4-d8f773dbc2c9",
   "metadata": {},
   "outputs": [],
   "source": [
    "var2 = \"[ DS, ML,Python]\""
   ]
  },
  {
   "cell_type": "code",
   "execution_count": 52,
   "id": "a14409b7-fd88-4e6f-886f-57b29b7ae41f",
   "metadata": {},
   "outputs": [],
   "source": [
    "var3 = [ \"DS\" , 'ML' , 'Python' ]"
   ]
  },
  {
   "cell_type": "code",
   "execution_count": 53,
   "id": "01ce4730-47b8-4042-9d56-265e0386bb36",
   "metadata": {},
   "outputs": [],
   "source": [
    "var4 = 1 "
   ]
  },
  {
   "cell_type": "code",
   "execution_count": 55,
   "id": "af2bfd62-41a2-4d1d-892f-3af4f1174a7d",
   "metadata": {},
   "outputs": [
    {
     "name": "stdout",
     "output_type": "stream",
     "text": [
      "<class 'str'>\n"
     ]
    }
   ],
   "source": [
    "print(type(var1))"
   ]
  },
  {
   "cell_type": "code",
   "execution_count": 60,
   "id": "403e4399-439f-492f-ae41-06ef4a567e82",
   "metadata": {},
   "outputs": [
    {
     "name": "stdout",
     "output_type": "stream",
     "text": [
      "<class 'str'>\n"
     ]
    }
   ],
   "source": [
    "print(type(var2))"
   ]
  },
  {
   "cell_type": "code",
   "execution_count": 58,
   "id": "c20cac5a-0ea6-4215-ae53-0b948f3283b7",
   "metadata": {},
   "outputs": [
    {
     "name": "stdout",
     "output_type": "stream",
     "text": [
      "<class 'list'>\n"
     ]
    }
   ],
   "source": [
    "print(type(var3))"
   ]
  },
  {
   "cell_type": "code",
   "execution_count": 61,
   "id": "e13f6c13-f2f4-4003-954c-40b89dfd1472",
   "metadata": {},
   "outputs": [
    {
     "name": "stdout",
     "output_type": "stream",
     "text": [
      "<class 'int'>\n"
     ]
    }
   ],
   "source": [
    "print(type(var4))"
   ]
  },
  {
   "cell_type": "code",
   "execution_count": 62,
   "id": "cca7a9f4-ddf0-4ae5-989b-0bd2043215ea",
   "metadata": {},
   "outputs": [
    {
     "name": "stdout",
     "output_type": "stream",
     "text": [
      "0.8\n"
     ]
    }
   ],
   "source": [
    "print(4/5)"
   ]
  },
  {
   "cell_type": "code",
   "execution_count": 64,
   "id": "6fb97b74-c6cf-4b02-af71-c689d6adfb0c",
   "metadata": {},
   "outputs": [
    {
     "name": "stdout",
     "output_type": "stream",
     "text": [
      "4\n"
     ]
    }
   ],
   "source": [
    "print(4%5)"
   ]
  },
  {
   "cell_type": "code",
   "execution_count": 65,
   "id": "1b30911c-2af2-437c-aee5-04b317f15499",
   "metadata": {},
   "outputs": [
    {
     "name": "stdout",
     "output_type": "stream",
     "text": [
      "0\n"
     ]
    }
   ],
   "source": [
    "print(4//5)"
   ]
  },
  {
   "cell_type": "code",
   "execution_count": 84,
   "id": "02954a30-711a-4741-84d3-3f0d4db5e383",
   "metadata": {},
   "outputs": [
    {
     "name": "stdout",
     "output_type": "stream",
     "text": [
      "1024\n"
     ]
    }
   ],
   "source": [
    "print(4**5)"
   ]
  },
  {
   "cell_type": "code",
   "execution_count": 88,
   "id": "c46fdd99-0e11-4e14-a64d-08eebed4d7d9",
   "metadata": {},
   "outputs": [],
   "source": [
    "my_list= [2,\"hey\",23,4,(1,2),True,\"cake\",4.0, False]"
   ]
  },
  {
   "cell_type": "code",
   "execution_count": 97,
   "id": "54381bc2-06fe-42fe-b48a-ecebfe3ce76c",
   "metadata": {},
   "outputs": [
    {
     "data": {
      "text/plain": [
       "[2, 'hey', 23, 4, (1, 2), True, 'cake', 4.0, False]"
      ]
     },
     "execution_count": 97,
     "metadata": {},
     "output_type": "execute_result"
    }
   ],
   "source": [
    "my_list"
   ]
  },
  {
   "cell_type": "code",
   "execution_count": 123,
   "id": "b795bd3a-a6eb-4839-b85b-217b23825c12",
   "metadata": {},
   "outputs": [],
   "source": [
    "my_list = [] \n"
   ]
  },
  {
   "cell_type": "code",
   "execution_count": 124,
   "id": "57cc4df6-5f1c-4edd-a7c0-dbebee086034",
   "metadata": {},
   "outputs": [
    {
     "name": "stdout",
     "output_type": "stream",
     "text": [
      "[1, 2, 3, 4, 5, 6, 7, 8, 9, 10, 11, 12, 13, 14, 15, 16, 17, 18, 19, 20, 21, 22, 23, 24, 25]\n"
     ]
    }
   ],
   "source": [
    "l3=[]\n",
    "for x in range(1,26,1):\n",
    "   l3.append(x)\n",
    "print(l3)"
   ]
  },
  {
   "cell_type": "code",
   "execution_count": 128,
   "id": "27c7e636-6e5f-493e-a472-bb166cdee6c5",
   "metadata": {},
   "outputs": [
    {
     "name": "stdout",
     "output_type": "stream",
     "text": [
      "1 no\n",
      "2 no\n",
      "3 yes\n",
      "4 no\n",
      "5 no\n",
      "6 yes\n",
      "7 no\n",
      "8 no\n",
      "9 yes\n",
      "10 no\n",
      "11 no\n",
      "12 yes\n",
      "13 no\n",
      "14 no\n",
      "15 yes\n",
      "16 no\n",
      "17 no\n",
      "18 yes\n",
      "19 no\n",
      "20 no\n",
      "21 yes\n",
      "22 no\n",
      "23 no\n",
      "24 yes\n",
      "25 no\n"
     ]
    }
   ],
   "source": [
    "for x in l3 :\n",
    "  if x%3==0 :\n",
    "    print(x,\"yes\")\n",
    "  else:\n",
    "    print(x,\"no\")\n",
    "     "
   ]
  },
  {
   "cell_type": "code",
   "execution_count": 132,
   "id": "30905be1-507e-444b-87c3-3aa1669b21fa",
   "metadata": {},
   "outputs": [],
   "source": [
    "a=[1,2,3,4]\n",
    "t=(1,2,3,4)\n",
    "     "
   ]
  },
  {
   "cell_type": "code",
   "execution_count": 134,
   "id": "a66f447c-9c82-41c8-b768-da5b66781b3e",
   "metadata": {},
   "outputs": [
    {
     "name": "stdout",
     "output_type": "stream",
     "text": [
      "[1, 2, 'changed', 4]\n"
     ]
    }
   ],
   "source": [
    "a[2]=\"changed\"\n",
    "print(a)"
   ]
  },
  {
   "cell_type": "code",
   "execution_count": 135,
   "id": "6e8dc848-50ae-45d0-b3dc-6a95064b0afc",
   "metadata": {},
   "outputs": [
    {
     "ename": "TypeError",
     "evalue": "'tuple' object does not support item assignment",
     "output_type": "error",
     "traceback": [
      "\u001b[0;31m---------------------------------------------------------------------------\u001b[0m",
      "\u001b[0;31mTypeError\u001b[0m                                 Traceback (most recent call last)",
      "Cell \u001b[0;32mIn[135], line 1\u001b[0m\n\u001b[0;32m----> 1\u001b[0m \u001b[43mt\u001b[49m\u001b[43m[\u001b[49m\u001b[38;5;241;43m0\u001b[39;49m\u001b[43m]\u001b[49m\u001b[38;5;241m=\u001b[39m\u001b[38;5;124m\"\u001b[39m\u001b[38;5;124mnot changed\u001b[39m\u001b[38;5;124m\"\u001b[39m\n",
      "\u001b[0;31mTypeError\u001b[0m: 'tuple' object does not support item assignment"
     ]
    }
   ],
   "source": [
    "t[0]=\"not changed\""
   ]
  },
  {
   "cell_type": "code",
   "execution_count": null,
   "id": "c70f940f-595b-49d1-8960-f053ed110c9a",
   "metadata": {},
   "outputs": [],
   "source": [
    "# tuples and strings cannot be changes \n",
    "# list can be changed "
   ]
  }
 ],
 "metadata": {
  "kernelspec": {
   "display_name": "Python 3 (ipykernel)",
   "language": "python",
   "name": "python3"
  },
  "language_info": {
   "codemirror_mode": {
    "name": "ipython",
    "version": 3
   },
   "file_extension": ".py",
   "mimetype": "text/x-python",
   "name": "python",
   "nbconvert_exporter": "python",
   "pygments_lexer": "ipython3",
   "version": "3.10.8"
  }
 },
 "nbformat": 4,
 "nbformat_minor": 5
}
